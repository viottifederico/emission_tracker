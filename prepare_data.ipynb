{
 "cells": [
  {
   "cell_type": "code",
   "execution_count": 1,
   "metadata": {},
   "outputs": [],
   "source": [
    "# THIS NOTEBOOK TAKES RAW DATA FROM EXPERIMENTS AND OUTPUT A PROCESSED DATASET TO BE USED AS INPUT FOR STREAMLIT APPLICATION"
   ]
  },
  {
   "cell_type": "code",
   "execution_count": 167,
   "metadata": {},
   "outputs": [],
   "source": [
    "import pandas as pd\n",
    "import numpy as np\n",
    "from datetime import datetime, timedelta"
   ]
  },
  {
   "cell_type": "code",
   "execution_count": 168,
   "metadata": {},
   "outputs": [
    {
     "data": {
      "text/plain": [
       "\"\\n\\n# THIS STEP IS NEEDED NOT NOW BUT FOR SURE IN PRODUCTION PHASE, TO DELETE ROWS THAT HAV A DATE PREVIOUS 1 YEAR AGO\\n\\n# Define the cutoff date (today - 1 year)\\ncutoff_date = datetime.now() - timedelta(days=365)\\n# Filter rows based on the condition\\ndf = df[df['date'] >= cutoff_date]\\n\\n\""
      ]
     },
     "execution_count": 168,
     "metadata": {},
     "output_type": "execute_result"
    }
   ],
   "source": [
    "# load dataset\n",
    "df = pd.read_csv(\"data_raw/yearly_log copy.csv\")\n",
    "\n",
    "# keep important columns to be used in the prototype\n",
    "df = df[['timestamp','project_name','run_id','duration','emissions','emissions_rate','cpu_power','ram_power',\n",
    "         'cpu_energy','ram_energy','energy_consumed','country_name','country_iso_code','region','os','python_version',\n",
    "         'cpu_count','cpu_model','longitude','latitude','ram_total_size']]\n",
    "\n",
    "\n",
    "\n",
    "# THIS STEP ADD THE FAKE DATE COLUMN FOR EVERY PROJECT EVERY ROW AS IT WAS A COMPUTATION OF THE DAY\n",
    "# Sort by 'project_name'\n",
    "df.sort_values(by='project_name', inplace=True)\n",
    "# Group by 'project_name' and add a 'date' column\n",
    "df['date'] = df.groupby('project_name').cumcount().apply(lambda x: datetime(2022, 1, 1) + timedelta(days=x))\n",
    "# Insert the \"date\" column at the second position (index 1)\n",
    "df.insert(1, 'date', df.pop('date'))\n",
    "\n",
    "\n",
    "# THIS STEP DROP USELESS ROWS IN ORDER TO HAVE 365 RUNS FOR EVERY PROJECT (1 YEAR OF DEPLOYMENT RUNS OF THE 3 MODELS)\n",
    "# Convert the 'date' column to datetime format\n",
    "df['date'] = pd.to_datetime(df['date'])\n",
    "# Sort DataFrame by 'project_name' and 'date'\n",
    "df.sort_values(by=['project_name', 'date'], inplace=True)\n",
    "# Group by 'project_name' and keep only the first 365 rows in each group\n",
    "df = df.groupby('project_name').head(365)\n",
    "# Reset index if needed\n",
    "df.reset_index(drop=True, inplace=True)\n",
    "#drop timestamp and run_id columns\n",
    "df = df.drop(columns=['timestamp','run_id'])\n",
    "# Normalize column 'project_name'\n",
    "df['project_name'] = df['project_name'].str.lower().str.replace(' ', '')\n",
    "\n",
    "\n",
    "'''\n",
    "\n",
    "# THIS STEP IS NEEDED NOT NOW BUT FOR SURE IN PRODUCTION PHASE, TO DELETE ROWS THAT HAV A DATE PREVIOUS 1 YEAR AGO\n",
    "\n",
    "# Define the cutoff date (today - 1 year)\n",
    "cutoff_date = datetime.now() - timedelta(days=365)\n",
    "# Filter rows based on the condition\n",
    "df = df[df['date'] >= cutoff_date]\n",
    "\n",
    "'''"
   ]
  },
  {
   "cell_type": "code",
   "execution_count": 169,
   "metadata": {},
   "outputs": [
    {
     "name": "stdout",
     "output_type": "stream",
     "text": [
      "logisticregressionmodel\n",
      "projectexcecuterdataload\n",
      "xgboostmodel\n"
     ]
    }
   ],
   "source": [
    "# THIS STEP CREATE 3 DATAFRAMES, ONE FOR EVERY PROJECT, WITH THE AGGREGATIONS NEEDED FOR THE DASHBOARD WILDCARDS\n",
    "# Aggregate data per project_name\n",
    "grouped_wildcard_df = df.groupby('project_name').agg({'duration': 'sum', \n",
    "                                             'emissions': 'sum',\n",
    "                                             'emissions_rate': 'sum',\n",
    "                                             'cpu_power': 'sum',\n",
    "                                             'ram_power': 'sum',\n",
    "                                             'cpu_energy': 'sum',\n",
    "                                             'ram_energy': 'sum',\n",
    "                                             'energy_consumed': 'sum',\n",
    "                                             'country_name': 'first',\n",
    "                                             'region': 'first',\n",
    "                                             'os': 'first',\n",
    "                                             'python_version': 'first',\n",
    "                                             'cpu_count': 'first',\n",
    "                                             'cpu_model': 'first',\n",
    "                                             'ram_total_size': 'first',}).reset_index()\n",
    "\n",
    "# Save each group in a separate variable and in the relative folder\n",
    "for group_name, group_data in grouped_wildcard_df.groupby('project_name'):\n",
    "    print(group_name)\n",
    "    globals()[f\"{group_name}_wildcard_df\"] = group_data.reset_index(drop=True)\n",
    "    csv_filename = f\"{group_name}_wildcard_df.csv\"\n",
    "    group_data.to_csv(f\"data_processed/single_project/{csv_filename}\", index=False)"
   ]
  },
  {
   "cell_type": "code",
   "execution_count": 170,
   "metadata": {},
   "outputs": [],
   "source": [
    "# THIS STEP CREATE 3 DATAFRAMES, ONE FOR EVERY PROJECT, WITH THE COLUMNS NEEDED FOR THE GRAPHS (LINECHARTS, ETC...)\n",
    "# Aggregate data per project_name\n",
    "logisticregressionmodel_series_df = df[df['project_name']=='logisticregressionmodel'][['project_name','date','duration','emissions','emissions_rate','cpu_power','ram_power','cpu_energy','ram_energy','energy_consumed']]\n",
    "projectexcecuterdataload_series_df = df[df['project_name']=='projectexcecuterdataload'][['project_name','date','duration','emissions','emissions_rate','cpu_power','ram_power','cpu_energy','ram_energy','energy_consumed']]\n",
    "xgboostmodel_series_df = df[df['project_name']=='xgboostmodel'][['project_name','date','duration','emissions','emissions_rate','cpu_power','ram_power','cpu_energy','ram_energy','energy_consumed']]\n",
    "\n",
    "logisticregressionmodel_series_df.to_csv(f\"data_processed/single_project/logisticregressionmodel_series_df.csv\")\n",
    "projectexcecuterdataload_series_df.to_csv(f\"data_processed/single_project/projectexcecuterdataload_series_df.csv\")\n",
    "xgboostmodel_series_df.to_csv(f\"data_processed/single_project/xgboostmodel_series_df.csv\")"
   ]
  },
  {
   "cell_type": "code",
   "execution_count": 171,
   "metadata": {},
   "outputs": [
    {
     "data": {
      "text/html": [
       "<div>\n",
       "<style scoped>\n",
       "    .dataframe tbody tr th:only-of-type {\n",
       "        vertical-align: middle;\n",
       "    }\n",
       "\n",
       "    .dataframe tbody tr th {\n",
       "        vertical-align: top;\n",
       "    }\n",
       "\n",
       "    .dataframe thead th {\n",
       "        text-align: right;\n",
       "    }\n",
       "</style>\n",
       "<table border=\"1\" class=\"dataframe\">\n",
       "  <thead>\n",
       "    <tr style=\"text-align: right;\">\n",
       "      <th></th>\n",
       "      <th>project_name</th>\n",
       "      <th>date</th>\n",
       "      <th>duration</th>\n",
       "      <th>emissions</th>\n",
       "      <th>emissions_rate</th>\n",
       "      <th>cpu_power</th>\n",
       "      <th>ram_power</th>\n",
       "      <th>cpu_energy</th>\n",
       "      <th>ram_energy</th>\n",
       "      <th>energy_consumed</th>\n",
       "    </tr>\n",
       "  </thead>\n",
       "  <tbody>\n",
       "    <tr>\n",
       "      <th>365</th>\n",
       "      <td>projectexcecuterdataload</td>\n",
       "      <td>2022-01-01</td>\n",
       "      <td>0.002220</td>\n",
       "      <td>1.460190e-10</td>\n",
       "      <td>6.576975e-08</td>\n",
       "      <td>5.0</td>\n",
       "      <td>6.0</td>\n",
       "      <td>2.958377e-09</td>\n",
       "      <td>3.271898e-09</td>\n",
       "      <td>6.230275e-09</td>\n",
       "    </tr>\n",
       "    <tr>\n",
       "      <th>366</th>\n",
       "      <td>projectexcecuterdataload</td>\n",
       "      <td>2022-01-02</td>\n",
       "      <td>0.002079</td>\n",
       "      <td>1.323893e-10</td>\n",
       "      <td>6.367903e-08</td>\n",
       "      <td>5.0</td>\n",
       "      <td>6.0</td>\n",
       "      <td>2.697110e-09</td>\n",
       "      <td>2.951622e-09</td>\n",
       "      <td>5.648732e-09</td>\n",
       "    </tr>\n",
       "    <tr>\n",
       "      <th>367</th>\n",
       "      <td>projectexcecuterdataload</td>\n",
       "      <td>2022-01-03</td>\n",
       "      <td>0.002253</td>\n",
       "      <td>1.487492e-10</td>\n",
       "      <td>6.602111e-08</td>\n",
       "      <td>5.0</td>\n",
       "      <td>6.0</td>\n",
       "      <td>3.009703e-09</td>\n",
       "      <td>3.337065e-09</td>\n",
       "      <td>6.346769e-09</td>\n",
       "    </tr>\n",
       "    <tr>\n",
       "      <th>368</th>\n",
       "      <td>projectexcecuterdataload</td>\n",
       "      <td>2022-01-04</td>\n",
       "      <td>0.003031</td>\n",
       "      <td>2.012126e-10</td>\n",
       "      <td>6.638455e-08</td>\n",
       "      <td>5.0</td>\n",
       "      <td>6.0</td>\n",
       "      <td>4.081925e-09</td>\n",
       "      <td>4.503330e-09</td>\n",
       "      <td>8.585254e-09</td>\n",
       "    </tr>\n",
       "    <tr>\n",
       "      <th>369</th>\n",
       "      <td>projectexcecuterdataload</td>\n",
       "      <td>2022-01-05</td>\n",
       "      <td>0.002252</td>\n",
       "      <td>1.447648e-10</td>\n",
       "      <td>6.428667e-08</td>\n",
       "      <td>5.0</td>\n",
       "      <td>6.0</td>\n",
       "      <td>2.963675e-09</td>\n",
       "      <td>3.213088e-09</td>\n",
       "      <td>6.176763e-09</td>\n",
       "    </tr>\n",
       "  </tbody>\n",
       "</table>\n",
       "</div>"
      ],
      "text/plain": [
       "                 project_name       date  duration     emissions  \\\n",
       "365  projectexcecuterdataload 2022-01-01  0.002220  1.460190e-10   \n",
       "366  projectexcecuterdataload 2022-01-02  0.002079  1.323893e-10   \n",
       "367  projectexcecuterdataload 2022-01-03  0.002253  1.487492e-10   \n",
       "368  projectexcecuterdataload 2022-01-04  0.003031  2.012126e-10   \n",
       "369  projectexcecuterdataload 2022-01-05  0.002252  1.447648e-10   \n",
       "\n",
       "     emissions_rate  cpu_power  ram_power    cpu_energy    ram_energy  \\\n",
       "365    6.576975e-08        5.0        6.0  2.958377e-09  3.271898e-09   \n",
       "366    6.367903e-08        5.0        6.0  2.697110e-09  2.951622e-09   \n",
       "367    6.602111e-08        5.0        6.0  3.009703e-09  3.337065e-09   \n",
       "368    6.638455e-08        5.0        6.0  4.081925e-09  4.503330e-09   \n",
       "369    6.428667e-08        5.0        6.0  2.963675e-09  3.213088e-09   \n",
       "\n",
       "     energy_consumed  \n",
       "365     6.230275e-09  \n",
       "366     5.648732e-09  \n",
       "367     6.346769e-09  \n",
       "368     8.585254e-09  \n",
       "369     6.176763e-09  "
      ]
     },
     "execution_count": 171,
     "metadata": {},
     "output_type": "execute_result"
    }
   ],
   "source": [
    "projectexcecuterdataload_series_df.head()"
   ]
  },
  {
   "cell_type": "code",
   "execution_count": 174,
   "metadata": {},
   "outputs": [],
   "source": [
    "# THIS STEP CREATE THE SERIES FOR GRAPH THE VARIABLES IN THE MAIN DASHBOARD OF ALL PROJECTS TOGETHER\n",
    "\n",
    "# Group by 'date' and sum 'emission' and 'utilization'\n",
    "grouped_all_series_df = df.groupby('date').agg({'duration': 'sum', \n",
    "                                     'emissions': 'sum',\n",
    "                                     'emissions_rate': 'sum',\n",
    "                                     'cpu_power': 'sum',\n",
    "                                     'ram_power': 'sum',\n",
    "                                     'cpu_energy': 'sum',\n",
    "                                     'ram_energy': 'sum',\n",
    "                                     'energy_consumed': 'sum'}).reset_index()\n",
    "grouped_all_series_df.to_csv(\"data_processed/whole_project/grouped_all_series_df.csv\", index=False)"
   ]
  },
  {
   "cell_type": "code",
   "execution_count": 181,
   "metadata": {},
   "outputs": [],
   "source": [
    "# THIS STEP CREATE THE SINGLE ROW FOR ALL PROJECT SUMMING THE WILDCARD VALUES FOR THE WHOLE MAIN DASHBOARD\n",
    "grouped_all_wildcard_df = df[['duration','emissions','emissions_rate','cpu_power','ram_power','cpu_energy','ram_energy','energy_consumed']]\n",
    "grouped_all_wildcard_df = pd.DataFrame([grouped_all_wildcard_df.sum()])\n",
    "grouped_all_wildcard_df.to_csv(\"data_processed/whole_project/grouped_all_wildcard_df.csv\", index=False)"
   ]
  }
 ],
 "metadata": {
  "kernelspec": {
   "display_name": "useCases_env",
   "language": "python",
   "name": "python3"
  },
  "language_info": {
   "codemirror_mode": {
    "name": "ipython",
    "version": 3
   },
   "file_extension": ".py",
   "mimetype": "text/x-python",
   "name": "python",
   "nbconvert_exporter": "python",
   "pygments_lexer": "ipython3",
   "version": "3.7.10"
  }
 },
 "nbformat": 4,
 "nbformat_minor": 2
}
