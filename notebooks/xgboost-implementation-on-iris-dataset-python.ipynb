{
 "cells": [
  {
   "cell_type": "markdown",
   "metadata": {
    "_cell_guid": "9a481338-5a50-45fc-a2e5-49890b5f1f39",
    "_uuid": "3a5fddd15400c3eb8d705d054aed66450e0eb685"
   },
   "source": [
    "**Data Set Information:**\n",
    "\n",
    "This is perhaps the best known database to be found in the pattern recognition literature. Fisher's paper is a classic in the field and is referenced frequently to this day. (See Duda & Hart, for example.) The data set contains 3 classes of 50 instances each, where each class refers to a type of iris plant. One class is linearly separable from the other 2; the latter are NOT linearly separable from each other.\n",
    "\n",
    "**Predicted attribute:** class of iris plant.\n",
    "\n",
    "This is an exceedingly simple domain.\n",
    "\n",
    "This data differs from the data presented in Fishers article (identified by Steve Chadwick, spchadwick '@' espeedaz.net ). The 35th sample should be: 4.9,3.1,1.5,0.2,\"Iris-setosa\" where the error is in the fourth feature. The 38th sample: 4.9,3.6,1.4,0.1,\"Iris-setosa\" where the errors are in the second and third features.\n",
    "\n",
    "**Attribute Information:**\n",
    "\n",
    "1. sepal length in cm\n",
    "2. sepal width in cm\n",
    "3. petal length in cm\n",
    "4. petal width in cm\n",
    "5. class:\n",
    "-- Iris Setosa\n",
    "-- Iris Versicolour\n",
    "-- Iris Virginica"
   ]
  },
  {
   "cell_type": "code",
   "execution_count": 1,
   "metadata": {
    "collapsed": true
   },
   "outputs": [],
   "source": [
    "#Importing dataset from sklearn\n",
    "from sklearn import datasets\n",
    "from sklearn import metrics\n",
    "\n",
    "iris = datasets.load_iris() #dataset loading\n",
    "X = iris.data               #Features stored in X \n",
    "y = iris.target             #Class variable"
   ]
  },
  {
   "cell_type": "code",
   "execution_count": 2,
   "metadata": {},
   "outputs": [],
   "source": [
    "#Splitting dataset into Training (80%) and testing data (20%) using train_test_split\n",
    "from sklearn.model_selection import train_test_split\n",
    "X_train, X_test, y_train, y_test = train_test_split(X, y, test_size=0.2, random_state=42)"
   ]
  },
  {
   "cell_type": "code",
   "execution_count": 3,
   "metadata": {},
   "outputs": [
    {
     "data": {
      "text/html": [
       "<style>#sk-container-id-1 {color: black;}#sk-container-id-1 pre{padding: 0;}#sk-container-id-1 div.sk-toggleable {background-color: white;}#sk-container-id-1 label.sk-toggleable__label {cursor: pointer;display: block;width: 100%;margin-bottom: 0;padding: 0.3em;box-sizing: border-box;text-align: center;}#sk-container-id-1 label.sk-toggleable__label-arrow:before {content: \"▸\";float: left;margin-right: 0.25em;color: #696969;}#sk-container-id-1 label.sk-toggleable__label-arrow:hover:before {color: black;}#sk-container-id-1 div.sk-estimator:hover label.sk-toggleable__label-arrow:before {color: black;}#sk-container-id-1 div.sk-toggleable__content {max-height: 0;max-width: 0;overflow: hidden;text-align: left;background-color: #f0f8ff;}#sk-container-id-1 div.sk-toggleable__content pre {margin: 0.2em;color: black;border-radius: 0.25em;background-color: #f0f8ff;}#sk-container-id-1 input.sk-toggleable__control:checked~div.sk-toggleable__content {max-height: 200px;max-width: 100%;overflow: auto;}#sk-container-id-1 input.sk-toggleable__control:checked~label.sk-toggleable__label-arrow:before {content: \"▾\";}#sk-container-id-1 div.sk-estimator input.sk-toggleable__control:checked~label.sk-toggleable__label {background-color: #d4ebff;}#sk-container-id-1 div.sk-label input.sk-toggleable__control:checked~label.sk-toggleable__label {background-color: #d4ebff;}#sk-container-id-1 input.sk-hidden--visually {border: 0;clip: rect(1px 1px 1px 1px);clip: rect(1px, 1px, 1px, 1px);height: 1px;margin: -1px;overflow: hidden;padding: 0;position: absolute;width: 1px;}#sk-container-id-1 div.sk-estimator {font-family: monospace;background-color: #f0f8ff;border: 1px dotted black;border-radius: 0.25em;box-sizing: border-box;margin-bottom: 0.5em;}#sk-container-id-1 div.sk-estimator:hover {background-color: #d4ebff;}#sk-container-id-1 div.sk-parallel-item::after {content: \"\";width: 100%;border-bottom: 1px solid gray;flex-grow: 1;}#sk-container-id-1 div.sk-label:hover label.sk-toggleable__label {background-color: #d4ebff;}#sk-container-id-1 div.sk-serial::before {content: \"\";position: absolute;border-left: 1px solid gray;box-sizing: border-box;top: 0;bottom: 0;left: 50%;z-index: 0;}#sk-container-id-1 div.sk-serial {display: flex;flex-direction: column;align-items: center;background-color: white;padding-right: 0.2em;padding-left: 0.2em;position: relative;}#sk-container-id-1 div.sk-item {position: relative;z-index: 1;}#sk-container-id-1 div.sk-parallel {display: flex;align-items: stretch;justify-content: center;background-color: white;position: relative;}#sk-container-id-1 div.sk-item::before, #sk-container-id-1 div.sk-parallel-item::before {content: \"\";position: absolute;border-left: 1px solid gray;box-sizing: border-box;top: 0;bottom: 0;left: 50%;z-index: -1;}#sk-container-id-1 div.sk-parallel-item {display: flex;flex-direction: column;z-index: 1;position: relative;background-color: white;}#sk-container-id-1 div.sk-parallel-item:first-child::after {align-self: flex-end;width: 50%;}#sk-container-id-1 div.sk-parallel-item:last-child::after {align-self: flex-start;width: 50%;}#sk-container-id-1 div.sk-parallel-item:only-child::after {width: 0;}#sk-container-id-1 div.sk-dashed-wrapped {border: 1px dashed gray;margin: 0 0.4em 0.5em 0.4em;box-sizing: border-box;padding-bottom: 0.4em;background-color: white;}#sk-container-id-1 div.sk-label label {font-family: monospace;font-weight: bold;display: inline-block;line-height: 1.2em;}#sk-container-id-1 div.sk-label-container {text-align: center;}#sk-container-id-1 div.sk-container {/* jupyter's `normalize.less` sets `[hidden] { display: none; }` but bootstrap.min.css set `[hidden] { display: none !important; }` so we also need the `!important` here to be able to override the default hidden behavior on the sphinx rendered scikit-learn.org. See: https://github.com/scikit-learn/scikit-learn/issues/21755 */display: inline-block !important;position: relative;}#sk-container-id-1 div.sk-text-repr-fallback {display: none;}</style><div id=\"sk-container-id-1\" class=\"sk-top-container\"><div class=\"sk-text-repr-fallback\"><pre>XGBClassifier(base_score=None, booster=None, callbacks=None,\n",
       "              colsample_bylevel=None, colsample_bynode=None,\n",
       "              colsample_bytree=None, device=None, early_stopping_rounds=None,\n",
       "              enable_categorical=False, eval_metric=None, feature_types=None,\n",
       "              gamma=None, grow_policy=None, importance_type=None,\n",
       "              interaction_constraints=None, learning_rate=None, max_bin=None,\n",
       "              max_cat_threshold=None, max_cat_to_onehot=None,\n",
       "              max_delta_step=None, max_depth=None, max_leaves=None,\n",
       "              min_child_weight=None, missing=nan, monotone_constraints=None,\n",
       "              multi_strategy=None, n_estimators=None, n_jobs=None,\n",
       "              num_parallel_tree=None, random_state=None, ...)</pre><b>In a Jupyter environment, please rerun this cell to show the HTML representation or trust the notebook. <br />On GitHub, the HTML representation is unable to render, please try loading this page with nbviewer.org.</b></div><div class=\"sk-container\" hidden><div class=\"sk-item\"><div class=\"sk-estimator sk-toggleable\"><input class=\"sk-toggleable__control sk-hidden--visually\" id=\"sk-estimator-id-1\" type=\"checkbox\" checked><label for=\"sk-estimator-id-1\" class=\"sk-toggleable__label sk-toggleable__label-arrow\">XGBClassifier</label><div class=\"sk-toggleable__content\"><pre>XGBClassifier(base_score=None, booster=None, callbacks=None,\n",
       "              colsample_bylevel=None, colsample_bynode=None,\n",
       "              colsample_bytree=None, device=None, early_stopping_rounds=None,\n",
       "              enable_categorical=False, eval_metric=None, feature_types=None,\n",
       "              gamma=None, grow_policy=None, importance_type=None,\n",
       "              interaction_constraints=None, learning_rate=None, max_bin=None,\n",
       "              max_cat_threshold=None, max_cat_to_onehot=None,\n",
       "              max_delta_step=None, max_depth=None, max_leaves=None,\n",
       "              min_child_weight=None, missing=nan, monotone_constraints=None,\n",
       "              multi_strategy=None, n_estimators=None, n_jobs=None,\n",
       "              num_parallel_tree=None, random_state=None, ...)</pre></div></div></div></div></div>"
      ],
      "text/plain": [
       "XGBClassifier(base_score=None, booster=None, callbacks=None,\n",
       "              colsample_bylevel=None, colsample_bynode=None,\n",
       "              colsample_bytree=None, device=None, early_stopping_rounds=None,\n",
       "              enable_categorical=False, eval_metric=None, feature_types=None,\n",
       "              gamma=None, grow_policy=None, importance_type=None,\n",
       "              interaction_constraints=None, learning_rate=None, max_bin=None,\n",
       "              max_cat_threshold=None, max_cat_to_onehot=None,\n",
       "              max_delta_step=None, max_depth=None, max_leaves=None,\n",
       "              min_child_weight=None, missing=nan, monotone_constraints=None,\n",
       "              multi_strategy=None, n_estimators=None, n_jobs=None,\n",
       "              num_parallel_tree=None, random_state=None, ...)"
      ]
     },
     "execution_count": 3,
     "metadata": {},
     "output_type": "execute_result"
    }
   ],
   "source": [
    "#Create an XGB classifier and instance of the same\n",
    "from sklearn import svm\n",
    "from xgboost import XGBClassifier\n",
    "clf = XGBClassifier()\n",
    "clf"
   ]
  },
  {
   "cell_type": "code",
   "execution_count": 4,
   "metadata": {},
   "outputs": [],
   "source": [
    "from codecarbon import track_emissions\n",
    "\n",
    "\n",
    "@track_emissions(project_name='XGBoost model')\n",
    "def fit_classifier(x, y, clf):\n",
    "    clf.fit(x, y)\n",
    "\n",
    "    return clf\n"
   ]
  },
  {
   "cell_type": "code",
   "execution_count": 5,
   "metadata": {},
   "outputs": [
    {
     "name": "stderr",
     "output_type": "stream",
     "text": [
      "[codecarbon INFO @ 11:23:16] [setup] RAM Tracking...\n",
      "[codecarbon INFO @ 11:23:16] [setup] GPU Tracking...\n",
      "[codecarbon INFO @ 11:23:16] No GPU found.\n",
      "[codecarbon INFO @ 11:23:16] [setup] CPU Tracking...\n",
      "[codecarbon DEBUG @ 11:23:16] Not using PowerGadget, an exception occurred while instantiating IntelPowerGadget : Intel Power Gadget executable not found on darwin\n",
      "[codecarbon DEBUG @ 11:23:16] Not using the RAPL interface, an exception occurred while instantiating IntelRAPL : Platform not supported by Intel RAPL Interface\n",
      "[codecarbon WARNING @ 11:23:16] No CPU tracking mode found. Falling back on CPU constant mode.\n",
      "[codecarbon DEBUG @ 11:23:16] CPU : We detect a Apple M1 Pro with a TDP of 10 W\n",
      "[codecarbon INFO @ 11:23:16] CPU Model on constant consumption mode: Apple M1 Pro\n",
      "[codecarbon INFO @ 11:23:16] >>> Tracker's metadata:\n",
      "[codecarbon INFO @ 11:23:16]   Platform system: macOS-14.0-arm64-arm-64bit\n",
      "[codecarbon INFO @ 11:23:16]   Python version: 3.9.6\n",
      "[codecarbon INFO @ 11:23:16]   CodeCarbon version: 2.3.1\n",
      "[codecarbon INFO @ 11:23:16]   Available RAM : 16.000 GB\n",
      "[codecarbon INFO @ 11:23:16]   CPU count: 10\n",
      "[codecarbon INFO @ 11:23:16]   CPU model: Apple M1 Pro\n",
      "[codecarbon INFO @ 11:23:16]   GPU count: None\n",
      "[codecarbon INFO @ 11:23:16]   GPU model: None\n",
      "[codecarbon DEBUG @ 11:23:17] Not running on AWS\n",
      "[codecarbon DEBUG @ 11:23:18] Not running on Azure\n",
      "[codecarbon DEBUG @ 11:23:19] Not running on GCP\n",
      "[codecarbon INFO @ 11:23:20] \n",
      "Graceful stopping: collecting and writing information.\n",
      "Please wait a few seconds...\n",
      "[codecarbon INFO @ 11:23:20] Energy consumed for RAM : 0.000000 kWh. RAM Power : 6.0 W\n",
      "[codecarbon DEBUG @ 11:23:20] RAM : 6.00 W during 0.10 s [measurement time: 0.0004]\n",
      "[codecarbon INFO @ 11:23:20] Energy consumed for all CPUs : 0.000000 kWh. Total CPU Power : 5.0 W\n",
      "[codecarbon DEBUG @ 11:23:20] CPU : 5.00 W during 0.10 s [measurement time: 0.0004]\n",
      "[codecarbon INFO @ 11:23:20] 0.000000 kWh of electricity used since the beginning.\n",
      "[codecarbon DEBUG @ 11:23:20] last_duration=0.09808897972106934\n",
      "------------------------\n",
      "[codecarbon DEBUG @ 11:23:20] We apply an energy mix of 23 g.CO2eq/kWh for Albania\n",
      "[codecarbon DEBUG @ 11:23:20] EmissionsData(timestamp='2023-11-02T11:23:20', project_name='XGBoost model', run_id='01dbeb00-adf5-4ada-8230-80a0c701ed73', duration=0.10092020034790039, emissions=7.046832310358684e-09, emissions_rate=6.982578597809226e-08, cpu_power=5.0, gpu_power=0.0, ram_power=6.0, cpu_energy=1.3718605041503907e-07, gpu_energy=0, ram_energy=1.6348520914713542e-07, energy_consumed=3.0067125956217446e-07, country_name='Albania', country_iso_code='ALB', region='tirana', cloud_provider='', cloud_region='', os='macOS-14.0-arm64-arm-64bit', python_version='3.9.6', codecarbon_version='2.3.1', cpu_count=10, cpu_model='Apple M1 Pro', gpu_count=None, gpu_model=None, longitude=19.8184, latitude=41.3253, ram_total_size=16.0, tracking_mode='machine', on_cloud='N', pue=1.0)\n",
      "[codecarbon INFO @ 11:23:20] Done!\n",
      "\n"
     ]
    }
   ],
   "source": [
    "from codecarbon import EmissionsTracker\n",
    "\n",
    "clf = fit_classifier(X_train, y_train, clf)"
   ]
  },
  {
   "cell_type": "code",
   "execution_count": 6,
   "metadata": {
    "collapsed": true
   },
   "outputs": [],
   "source": [
    "y_pred = clf.predict(X_test)"
   ]
  },
  {
   "cell_type": "code",
   "execution_count": 7,
   "metadata": {},
   "outputs": [
    {
     "name": "stdout",
     "output_type": "stream",
     "text": [
      "1.0\n"
     ]
    }
   ],
   "source": [
    "#classification accuracy\n",
    "from sklearn import metrics\n",
    "print(metrics.accuracy_score(y_test, y_pred))"
   ]
  },
  {
   "cell_type": "markdown",
   "metadata": {},
   "source": [
    "**Implementation using xgb library**"
   ]
  },
  {
   "cell_type": "code",
   "execution_count": 8,
   "metadata": {
    "collapsed": true
   },
   "outputs": [],
   "source": [
    "#importing library and segregation of data as train and test using DMatrix Data structure\n",
    "import xgboost as xgb\n",
    "\n",
    "dtrain = xgb.DMatrix(X_train, label=y_train)\n",
    "dtest = xgb.DMatrix(X_test, label=y_test)"
   ]
  },
  {
   "cell_type": "code",
   "execution_count": 9,
   "metadata": {
    "collapsed": true
   },
   "outputs": [],
   "source": [
    "#paramaters \n",
    "param = {\n",
    "    'max_depth': 3,  # the maximum depth of each tree\n",
    "    'eta': 0.3,  # the training step for each iteration\n",
    "    'silent': 1,  # logging mode - quiet\n",
    "    'objective': 'multi:softprob',  # error evaluation for multiclass training\n",
    "    'num_class': 3}  # the number of classes that exist in this datset\n",
    "num_round = 5  # the number of training iterations"
   ]
  },
  {
   "cell_type": "code",
   "execution_count": 10,
   "metadata": {
    "collapsed": true
   },
   "outputs": [
    {
     "name": "stderr",
     "output_type": "stream",
     "text": [
      "/Users/varosi/Documents/codecarbon_test/env/lib/python3.9/site-packages/xgboost/core.py:160: UserWarning: [11:23:20] WARNING: /Users/runner/work/xgboost/xgboost/src/learner.cc:742: \n",
      "Parameters: { \"silent\" } are not used.\n",
      "\n",
      "  warnings.warn(smsg, UserWarning)\n"
     ]
    }
   ],
   "source": [
    "#model builing using training data\n",
    "bst = xgb.train(param, dtrain, num_round)"
   ]
  },
  {
   "cell_type": "code",
   "execution_count": 11,
   "metadata": {
    "collapsed": true
   },
   "outputs": [],
   "source": [
    "#To calculate predication using test data\n",
    "y_predict = bst.predict(dtest)\n",
    "#print(y_predict)"
   ]
  },
  {
   "cell_type": "markdown",
   "metadata": {},
   "source": [
    "**Generated dump file will be like this:**\n",
    "\n",
    "booster[0]:\n",
    "\n",
    "0:[cap-shape=convex] yes=2,no=1\n",
    "\n",
    "    1:leaf=0.426036\n",
    "\t2:leaf=-0.218845\n",
    "\n",
    "booster[1]:\n",
    "\n",
    "0:[cap-shape=convex] yes=2,no=1\n",
    "\n",
    "    1:leaf=-0.213018\n",
    "\t2:[cap-shape=flat] yes=4,no=3\n",
    "\t\t3:[cap-shape=convex] yes=6,no=5\n",
    "\t\t\t5:leaf=0.409091\n",
    "\t\t\t6:leaf=-9.75349e-09\n",
    "\t\t4:[cap-shape=convex] yes=8,no=7\n",
    "\t\t\t7:leaf=-7.66345e-09\n",
    "\t\t\t8:leaf=-0.210219\n",
    "\n",
    "booster[2]:\n",
    "\n",
    "0:[cap-shape=convex] yes=2,no=1\n",
    "\n",
    "    1:[cap-shape=flat] yes=4,no=3\n",
    "\t\t3:leaf=-0.217895\n",
    "\t\t4:[cap-shape=bell] yes=8,no=7\n",
    "\t\t\t7:leaf=-7.66345e-09\n",
    "\t\t\t8:leaf=-0.155172\n",
    "\t2:[cap-shape=flat] yes=6,no=5\n",
    "\t\t5:[cap-shape=convex] yes=10,no=9\n",
    "\t\t\t9:leaf=-0.036\n",
    "\t\t\t10:leaf=0.18\n",
    "\t\t6:[cap-shape=convex] yes=12,no=11\n",
    "\t\t\t11:leaf=0.128571\n",
    "\t\t\t12:leaf=0.420438\n",
    "            ........"
   ]
  },
  {
   "cell_type": "markdown",
   "metadata": {},
   "source": [
    "Dump_Model terms:\n",
    "\n",
    "**  ID:** unique identifier of a node \n",
    "\n",
    "**Feature:** feature used in the tree to operate a split. When Leaf is indicated, it is the end of a branch \n",
    "\n",
    "**Split**: value of the chosen feature where is operated the split \n",
    "\n",
    "**Yes**: ID of the feature for the next node in the branch when the split condition is met \n",
    "\n",
    "**No**: ID of the feature for the next node in the branch when the split condition is not met \n",
    "\n",
    "**Missing**: ID of the feature for the next node in the branch for observation where the feature used for the split are not provided "
   ]
  },
  {
   "cell_type": "code",
   "execution_count": 12,
   "metadata": {
    "collapsed": true
   },
   "outputs": [],
   "source": [
    "#Prediction using test data\n",
    "preds = bst.predict(dtest)"
   ]
  },
  {
   "cell_type": "code",
   "execution_count": 13,
   "metadata": {
    "_kg_hide-output": true
   },
   "outputs": [
    {
     "name": "stdout",
     "output_type": "stream",
     "text": [
      "1.0\n"
     ]
    }
   ],
   "source": [
    "#Calculating prediction accuracy\n",
    "import numpy as np\n",
    "best_preds = np.asarray([np.argmax(line) for line in preds])\n",
    "from sklearn.metrics import precision_score\n",
    "print (precision_score(y_test, best_preds, average='macro'))\n",
    "# >> 1.0"
   ]
  },
  {
   "cell_type": "markdown",
   "metadata": {},
   "source": [
    "**That's It...!**"
   ]
  }
 ],
 "metadata": {
  "kernelspec": {
   "display_name": "Python 3",
   "language": "python",
   "name": "python3"
  },
  "language_info": {
   "codemirror_mode": {
    "name": "ipython",
    "version": 3
   },
   "file_extension": ".py",
   "mimetype": "text/x-python",
   "name": "python",
   "nbconvert_exporter": "python",
   "pygments_lexer": "ipython3",
   "version": "3.9.6"
  }
 },
 "nbformat": 4,
 "nbformat_minor": 1
}
